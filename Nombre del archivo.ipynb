{
 "cells": [
  {
   "cell_type": "markdown",
   "id": "bdd5e9f5",
   "metadata": {},
   "source": [
    "# Tarea 01- Markdown\n",
    "\n",
    "# 16/01/23\n",
    "\n",
    "### Diego Rangel Orozco\n",
    "\n",
    "#### Expediente:\n",
    "\n",
    "735116\n",
    "\n",
    "Yo soy originario de **Manzanillo, Colima, México**. Me encuetro estudiando la carrera de *ingeniería civil* y actualmente curso mi 5to semestre en la misma, tengo dudas de si me encuentro en la carrera correcta por lo que este semestre decidí que la mitad de materias serian de la carrea y la otra mitad de *ingeniería ambiental* para saber si me llama la atención o no.\n",
    "\n",
    "\n",
    "\n"
   ]
  },
  {
   "cell_type": "markdown",
   "id": "6b07ed49",
   "metadata": {},
   "source": [
    "## Mis bandas favoritas son:\n",
    "1. Panic! At the disco\n",
    "2. Muse\n",
    "3. The killers\n",
    "4. Coldplay\n",
    "5. Kongos\n",
    "\n",
    "\n"
   ]
  },
  {
   "cell_type": "markdown",
   "id": "f8e6bad0",
   "metadata": {},
   "source": [
    "## Mis canciones favoritas son:\n",
    "- The cure\n",
    "- Hymn for the weekend\n",
    "- Bitter sweet simphony\n"
   ]
  },
  {
   "cell_type": "markdown",
   "id": "ee3b53b5",
   "metadata": {},
   "source": [
    "## ¿Que es la mecánica?\n",
    "\n",
    "La mecánica es la ciencia que describe y predice las condiciones de reposo o movimiento de los cuerpos bajo la acción de fuerzas. Se divide en 3 partes: la mecánica de *cuerpos rígidos*, mecánica de *cuerpos deformables* y mecánica de *fuidos*.\n",
    "\n",
    "La mecánica de cuerpos rígidos se divide en **estática** y **dinámica**, la estatica se dedica al estudio de los cuerpos en reposo y la dinámica a los cuerpos en movimiento.\n",
    "\n",
    "La mecánica de fluidos se divide en fluidos *incompresibles* y *compresibles*.\n"
   ]
  },
  {
   "attachments": {
    "descarga.png": {
     "image/png": "[encoded data removed]"
    }
   },
   "cell_type": "markdown",
   "id": "0023873d",
   "metadata": {},
   "source": [
    "![descarga.png](attachment:descarga.png)"
   ]
  },
  {
   "cell_type": "markdown",
   "id": "c94e5945",
   "metadata": {},
   "source": [
    "#### Ecuaciones de equilibrio:\n",
    "\n",
    "$ ΣFx=0 $\n",
    "\n",
    "$ ΣFy=0 $"
   ]
  },
  {
   "cell_type": "markdown",
   "id": "4f20b48a",
   "metadata": {},
   "source": [
    "#### Bibliografía:\n",
    "\n"
   ]
  },
  {
   "cell_type": "markdown",
   "id": "c2cc26a4",
   "metadata": {},
   "source": [
    "Beer, F. P., Johnston, E. R., & Mazurek, D. F. (2018). Vector Mechanics for Engineers. McGraw-Hill Education."
   ]
  }
 ],
 "metadata": {
  "kernelspec": {
   "display_name": "Python 3 (ipykernel)",
   "language": "python",
   "name": "python3"
  },
  "language_info": {
   "codemirror_mode": {
    "name": "ipython",
    "version": 3
   },
   "file_extension": ".py",
   "mimetype": "text/x-python",
   "name": "python",
   "nbconvert_exporter": "python",
   "pygments_lexer": "ipython3",
   "version": "3.9.13"
  }
 },
 "nbformat": 4,
 "nbformat_minor": 5
}
